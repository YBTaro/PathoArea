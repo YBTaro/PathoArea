{
 "cells": [
  {
   "cell_type": "code",
   "execution_count": 2,
   "id": "fddb1275-9d79-4142-af54-2ebc41bbe755",
   "metadata": {},
   "outputs": [],
   "source": [
    "import segmentation_models_pytorch as smp\n",
    "import torch.nn as nn\n",
    "import torch.optim as optim\n",
    "import torch\n",
    "from torchinfo import summary\n",
    "import torch\n",
    "from torch.utils.data import DataLoader, Dataset\n",
    "from torchvision import datasets, transforms\n",
    "import torchvision.transforms as T\n",
    "import os\n",
    "from PIL import Image"
   ]
  },
  {
   "cell_type": "code",
   "execution_count": 3,
   "id": "63cc5730-557d-47d2-8127-7d76c7336185",
   "metadata": {},
   "outputs": [
    {
     "data": {
      "text/plain": [
       "'cpu'"
      ]
     },
     "execution_count": 3,
     "metadata": {},
     "output_type": "execute_result"
    }
   ],
   "source": [
    "device = \"cuda\" if torch.cuda.is_available() else \"cpu\"\n",
    "device"
   ]
  },
  {
   "cell_type": "code",
   "execution_count": 4,
   "id": "f75cca22-489c-4aa2-9a6f-9c1fbe998e1c",
   "metadata": {},
   "outputs": [],
   "source": [
    "model = smp.Unet('resnet34', classes=3, activation='softmax').to(device)"
   ]
  },
  {
   "cell_type": "code",
   "execution_count": 5,
   "id": "6cfd135d-33c0-49f2-8246-3f813afb72a4",
   "metadata": {},
   "outputs": [
    {
     "data": {
      "text/plain": [
       "======================================================================\n",
       "Layer (type:depth-idx)                        Param #\n",
       "======================================================================\n",
       "Unet                                          --\n",
       "├─ResNetEncoder: 1-1                          --\n",
       "│    └─Conv2d: 2-1                            9,408\n",
       "│    └─BatchNorm2d: 2-2                       128\n",
       "│    └─ReLU: 2-3                              --\n",
       "│    └─MaxPool2d: 2-4                         --\n",
       "│    └─Sequential: 2-5                        --\n",
       "│    │    └─BasicBlock: 3-1                   73,984\n",
       "│    │    └─BasicBlock: 3-2                   73,984\n",
       "│    │    └─BasicBlock: 3-3                   73,984\n",
       "│    └─Sequential: 2-6                        --\n",
       "│    │    └─BasicBlock: 3-4                   230,144\n",
       "│    │    └─BasicBlock: 3-5                   295,424\n",
       "│    │    └─BasicBlock: 3-6                   295,424\n",
       "│    │    └─BasicBlock: 3-7                   295,424\n",
       "│    └─Sequential: 2-7                        --\n",
       "│    │    └─BasicBlock: 3-8                   919,040\n",
       "│    │    └─BasicBlock: 3-9                   1,180,672\n",
       "│    │    └─BasicBlock: 3-10                  1,180,672\n",
       "│    │    └─BasicBlock: 3-11                  1,180,672\n",
       "│    │    └─BasicBlock: 3-12                  1,180,672\n",
       "│    │    └─BasicBlock: 3-13                  1,180,672\n",
       "│    └─Sequential: 2-8                        --\n",
       "│    │    └─BasicBlock: 3-14                  3,673,088\n",
       "│    │    └─BasicBlock: 3-15                  4,720,640\n",
       "│    │    └─BasicBlock: 3-16                  4,720,640\n",
       "├─UnetDecoder: 1-2                            --\n",
       "│    └─Identity: 2-9                          --\n",
       "│    └─ModuleList: 2-10                       --\n",
       "│    │    └─DecoderBlock: 3-17                2,360,320\n",
       "│    │    └─DecoderBlock: 3-18                590,336\n",
       "│    │    └─DecoderBlock: 3-19                147,712\n",
       "│    │    └─DecoderBlock: 3-20                46,208\n",
       "│    │    └─DecoderBlock: 3-21                6,976\n",
       "├─SegmentationHead: 1-3                       --\n",
       "│    └─Conv2d: 2-11                           435\n",
       "│    └─Identity: 2-12                         --\n",
       "│    └─Activation: 2-13                       --\n",
       "│    │    └─Softmax: 3-22                     --\n",
       "======================================================================\n",
       "Total params: 24,436,659\n",
       "Trainable params: 24,436,659\n",
       "Non-trainable params: 0\n",
       "======================================================================"
      ]
     },
     "execution_count": 5,
     "metadata": {},
     "output_type": "execute_result"
    }
   ],
   "source": [
    "summary(model)"
   ]
  },
  {
   "cell_type": "code",
   "execution_count": 6,
   "id": "eb7230b2-f77f-472c-87df-382dbcdf3727",
   "metadata": {},
   "outputs": [],
   "source": [
    "for param in model.encoder.parameters():\n",
    "    param.requires_grad = False"
   ]
  },
  {
   "cell_type": "code",
   "execution_count": 7,
   "id": "77cedba7-4c45-495c-87df-9548183fae20",
   "metadata": {},
   "outputs": [],
   "source": [
    "loss_fn = nn.CrossEntropyLoss()  \n",
    "optimizer = torch.optim.Adam([\n",
    "    {'params': model.decoder.parameters()},\n",
    "    {'params': model.segmentation_head.parameters()}\n",
    "], lr=1e-4)"
   ]
  },
  {
   "cell_type": "code",
   "execution_count": 8,
   "id": "71d23ec1-ed1e-41f5-a938-05b3e6080699",
   "metadata": {},
   "outputs": [],
   "source": [
    "mask_dir = os.path.join(os.getcwd(),\"labels/final_labels\")\n",
    "image_dir= os.path.join(os.getcwd(),\"images_224_rename\")"
   ]
  },
  {
   "cell_type": "code",
   "execution_count": 9,
   "id": "e220ba41-065c-45da-b600-fb1934a1a482",
   "metadata": {},
   "outputs": [],
   "source": [
    "class SegmentationDataset(Dataset):\n",
    "    def __init__(self, image_dir, mask_dir, transform=None, mask_transform=None):\n",
    "        self.image_dir = image_dir\n",
    "        self.mask_dir = mask_dir\n",
    "        self.transform = transform\n",
    "        self.mask_transform = mask_transform\n",
    "        self.image_filenames = sorted(os.listdir(mask_dir))  # 假設 image 和 mask 檔名相同\n",
    "\n",
    "    def __len__(self):\n",
    "        return len(self.image_filenames)\n",
    "\n",
    "    def __getitem__(self, idx):\n",
    "        image_path = os.path.join(self.image_dir, self.image_filenames[idx])\n",
    "        mask_path = os.path.join(self.mask_dir, self.image_filenames[idx])\n",
    "        \n",
    "        image = Image.open(image_path.replace(\".png\", \".jpg\")).convert(\"RGB\")\n",
    "        mask = Image.open(mask_path).convert(\"L\")  # 灰階，單一通道\n",
    "\n",
    "        if self.transform:\n",
    "            image = self.transform(image)\n",
    "        if self.mask_transform:\n",
    "            mask = self.mask_transform(mask)\n",
    "\n",
    "        return image, mask"
   ]
  },
  {
   "cell_type": "code",
   "execution_count": 10,
   "id": "d4d17f7a-5c4f-4232-91b3-f73ecd34ac23",
   "metadata": {},
   "outputs": [],
   "source": [
    "image_transform = T.Compose([\n",
    "    T.ToTensor(),  # [0,1] 範圍\n",
    "    T.Normalize(mean=[0.485, 0.456, 0.406],  # ImageNet 標準\n",
    "                std=[0.229, 0.224, 0.225])\n",
    "])"
   ]
  },
  {
   "cell_type": "code",
   "execution_count": 11,
   "id": "54004bed-aa74-4c03-9265-c373d6a07b70",
   "metadata": {},
   "outputs": [],
   "source": [
    "# 轉換 mask 成 tensor\n",
    "mask_transform = T.Compose([\n",
    "    T.ToTensor()\n",
    "])\n",
    "\n"
   ]
  },
  {
   "cell_type": "code",
   "execution_count": 12,
   "id": "66308803-7eeb-4bb1-96a3-b583ffbbb202",
   "metadata": {},
   "outputs": [],
   "source": [
    "# 建立 Dataset\n",
    "dataset = SegmentationDataset(\n",
    "    image_dir=image_dir,\n",
    "    mask_dir=mask_dir,\n",
    "    transform=image_transform,\n",
    "    mask_transform=mask_transform\n",
    ")"
   ]
  },
  {
   "cell_type": "code",
   "execution_count": 13,
   "id": "70b4abc1-56ee-4038-8f92-f3f24c421e60",
   "metadata": {},
   "outputs": [],
   "source": [
    "dataloader = DataLoader(dataset, batch_size=4, shuffle=True)"
   ]
  },
  {
   "cell_type": "code",
   "execution_count": 14,
   "id": "5d445fa8-25f6-4274-84be-ed8d47529642",
   "metadata": {},
   "outputs": [
    {
     "name": "stdout",
     "output_type": "stream",
     "text": [
      "torch.Size([4, 3, 224, 224]) torch.Size([4, 1, 224, 224])\n",
      "torch.Size([4, 3, 224, 224]) torch.Size([4, 1, 224, 224])\n",
      "torch.Size([4, 3, 224, 224]) torch.Size([4, 1, 224, 224])\n",
      "torch.Size([2, 3, 224, 224]) torch.Size([2, 1, 224, 224])\n"
     ]
    }
   ],
   "source": [
    "for imgs, masks in dataloader:\n",
    "    print(imgs.shape, masks.shape)"
   ]
  },
  {
   "cell_type": "code",
   "execution_count": 15,
   "id": "e1c59203-9650-4724-be59-9aaf4cedb59d",
   "metadata": {},
   "outputs": [],
   "source": [
    "def pixel_accuracy(preds, masks):\n",
    "    \"\"\"\n",
    "    preds: prediction, shape = (B, H, W)\n",
    "    masks: ground truth mask，shape = (B, H, W)\n",
    "    \"\"\"\n",
    "    correct = (preds == masks).float()\n",
    "    acc = correct.sum() / correct.numel()\n",
    "    return acc"
   ]
  },
  {
   "cell_type": "code",
   "execution_count": 17,
   "id": "645bc344-2735-44be-94b1-a7dbebf5564d",
   "metadata": {},
   "outputs": [
    {
     "name": "stdout",
     "output_type": "stream",
     "text": [
      "Epoch [1], Accuracy: 0.8550, Loss: 0.9290\n",
      "Epoch [2], Accuracy: 0.8851, Loss: 0.9144\n",
      "Epoch [3], Accuracy: 0.9127, Loss: 0.8998\n",
      "Epoch [4], Accuracy: 0.9309, Loss: 0.8865\n",
      "Epoch [5], Accuracy: 0.9495, Loss: 0.8723\n",
      "Epoch [6], Accuracy: 0.9547, Loss: 0.8618\n",
      "Epoch [7], Accuracy: 0.9569, Loss: 0.8514\n",
      "Epoch [8], Accuracy: 0.9612, Loss: 0.8410\n",
      "Epoch [9], Accuracy: 0.9641, Loss: 0.8320\n",
      "Epoch [10], Accuracy: 0.9640, Loss: 0.8247\n"
     ]
    }
   ],
   "source": [
    "model.train()\n",
    "for epoch in range(10):\n",
    "    model.train()\n",
    "    total_loss = 0\n",
    "    for imgs, masks in dataloader:\n",
    "        imgs = imgs.to(device)\n",
    "        masks = masks.long().squeeze(1).to(device)  # 轉回 int 類型 + squeeze channel\n",
    "\n",
    "        outputs = model(imgs)\n",
    "        loss = loss_fn(outputs, masks)\n",
    "\n",
    "        optimizer.zero_grad()\n",
    "        loss.backward()\n",
    "        optimizer.step()\n",
    "\n",
    "        total_loss += loss.item()\n",
    "    \n",
    "    with torch.inference_mode():\n",
    "        val_loss = 0\n",
    "        val_acc = 0\n",
    "        val_batches = 0\n",
    "    \n",
    "        for imgs, masks in dataloader:\n",
    "            imgs = imgs.to(device)\n",
    "            masks = masks.long().squeeze(1).to(device)\n",
    "            \n",
    "            outputs = model(imgs)\n",
    "            preds = torch.argmax(outputs, dim=1)\n",
    "            loss = loss_fn(outputs, masks)\n",
    "            acc = pixel_accuracy(preds, masks)\n",
    "    \n",
    "            val_loss += loss.item()\n",
    "            val_acc += acc.item()\n",
    "            val_batches += 1\n",
    "    \n",
    "        avg_loss = val_loss / val_batches\n",
    "        avg_acc = val_acc / val_batches\n",
    "        print(f\"Epoch [{epoch+1}], Accuracy: {avg_acc:.4f}, Loss: {avg_loss:.4f}\")"
   ]
  },
  {
   "cell_type": "code",
   "execution_count": null,
   "id": "6b826d44-fb86-4413-bf16-b0bd768e64e6",
   "metadata": {},
   "outputs": [],
   "source": []
  }
 ],
 "metadata": {
  "kernelspec": {
   "display_name": "Python 3 (ipykernel)",
   "language": "python",
   "name": "python3"
  },
  "language_info": {
   "codemirror_mode": {
    "name": "ipython",
    "version": 3
   },
   "file_extension": ".py",
   "mimetype": "text/x-python",
   "name": "python",
   "nbconvert_exporter": "python",
   "pygments_lexer": "ipython3",
   "version": "3.12.7"
  }
 },
 "nbformat": 4,
 "nbformat_minor": 5
}
